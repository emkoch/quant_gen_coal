{
 "cells": [
  {
   "cell_type": "code",
   "execution_count": 1,
   "metadata": {
    "collapsed": true
   },
   "outputs": [],
   "source": [
    "import geneMGF\n",
    "import pickle\n",
    "import mgf_math\n",
    "import sympy\n",
    "import importlib\n",
    "importlib.reload(mgf_math)\n",
    "importlib.reload(geneMGF)\n",
    "sympy.init_printing()"
   ]
  },
  {
   "cell_type": "markdown",
   "metadata": {},
   "source": [
    "A useful quantitiy for understanding how genetic architecture impacts the trait distribution is the coefficient of variation of the variance. This is defined as \n",
    "$$\n",
    "\\frac{\\sqrt{Var[V_g]}}{E[V_g]}.\n",
    "$$\n",
    "Since we already have an expression for the expected variance in the population, what we need to derive is the variance of the variance.\n",
    "$$\n",
    "  Var[V_g] =  Var\\left[ \\frac{1}{N}\\sum \\left( Y_i - \\frac{\\sum Y_j}{N} \\right)^2\\right] \\\\\n",
    "  = \\frac{1}{N^2}\\left( \\sum Var[(Y_i - \\frac{\\sum Y_j}{N})^2] + 2 \\sum_{i \\neq j} \n",
    "              Cov[(Y_i - \\frac{\\sum Y_k}{N})^2, (Y_j - \\frac{\\sum Y_k}{N})^2]\\right)\n",
    "$$"
   ]
  },
  {
   "cell_type": "markdown",
   "metadata": {},
   "source": [
    "The first term can be ignored if the population size is large. The second term is determined by\n",
    "the covariance in the squared deviations from the mean. The covariance can be calculated by\n",
    "considering its individual parts."
   ]
  },
  {
   "cell_type": "markdown",
   "metadata": {},
   "source": [
    "\\begin{align*}\n",
    "  &Cov[Y_i^2, Y_j^2] \\approx -2Cov[Y_i^2,Y_j^2] \\nonumber \\\\\n",
    "  &Cov[Y_i^2, -2Y_j \\frac{\\sum Y_k}{N}] \\approx -2Cov[Y_i^2,Y_jY_k] \\nonumber \\\\\n",
    "  &Cov[Y_i^2, \\left(\\frac{\\sum Y_k}{N}\\right)^2] \\approx Cov[Y_i^2,Y_jY_k] \\nonumber \\\\\n",
    "  &Cov[-2Y_i\\left(\\frac{\\sum Y_k}{N}\\right), Y_j^2] \\approx -2Cov[Y_i^2,Y_jY_k] \\nonumber \\\\\n",
    "  &Cov[-2Y_i\\left(\\frac{\\sum Y_k}{N}\\right),-2Y_j\\left(\\frac{\\sum Y_k}{N}\\right)] \n",
    "  \\approx 4Cov[Y_iY_j,Y_kY_l] \\nonumber \\\\\n",
    "  &Cov[-2Y_i\\left(\\frac{\\sum Y_k}{N}\\right), \\left(\\frac{\\sum Y_k}{N}\\right)] \n",
    "  \\approx -2Cov[Y_iY_j,Y_kY_l] \\nonumber \\\\\n",
    "  &Cov[\\left(\\frac{\\sum Y_k}{N}\\right)^2, Y_j^2] \n",
    "  \\approx Cov[Y_j^2,Y_iY_k] \\nonumber \\\\\n",
    "  &Cov[\\left(\\frac{\\sum Y_k}{N}\\right)^2,-2Y_j\\left(\\frac{\\sum Y_k}{N}\\right)] \n",
    "  \\approx -2Cov[Y_iY_j,Y_kY_l] \\nonumber \\\\\n",
    "  &Cov[\\left(\\frac{\\sum Y_k}{N}\\right)^2,\\left(\\frac{\\sum Y_k}{N}\\right)^2] \n",
    "  \\approx Cov[Y_iY_j,Y_kY_l] \\nonumber\n",
    "\\end{align*}"
   ]
  },
  {
   "cell_type": "markdown",
   "metadata": {},
   "source": [
    "Combining all these gives \n",
    "\\begin{equation}\n",
    "  Cov[(Y_i - \\frac{\\sum Y_k}{N})^2, (Y_j - \\frac{\\sum Y_k}{N})^2] = \n",
    "  E[Y_i^2Y_j^2] - E[Y_i^2]^2 - 2E[Y_i^2Y_jY_k] + 2E[Y_i^2]E[Y_jY_k] +\n",
    "  E[Y_iY_jY_kY_l] - E[Y_iY_j]^2.\n",
    "\\end{equation}"
   ]
  },
  {
   "cell_type": "markdown",
   "metadata": {},
   "source": [
    "What we need to do next is derive expressions for each part of this covariance."
   ]
  },
  {
   "cell_type": "code",
   "execution_count": null,
   "metadata": {
    "collapsed": true
   },
   "outputs": [],
   "source": []
  }
 ],
 "metadata": {
  "kernelspec": {
   "display_name": "Python 3",
   "language": "python",
   "name": "python3"
  },
  "language_info": {
   "codemirror_mode": {
    "name": "ipython",
    "version": 3
   },
   "file_extension": ".py",
   "mimetype": "text/x-python",
   "name": "python",
   "nbconvert_exporter": "python",
   "pygments_lexer": "ipython3",
   "version": "3.5.2"
  }
 },
 "nbformat": 4,
 "nbformat_minor": 2
}
