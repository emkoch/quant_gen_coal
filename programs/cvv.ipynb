{
 "cells": [
  {
   "cell_type": "code",
   "execution_count": 2,
   "metadata": {
    "collapsed": true
   },
   "outputs": [],
   "source": [
    "import geneMGF\n",
    "import pickle\n",
    "import mgf_math\n",
    "import sympy\n",
    "import importlib\n",
    "importlib.reload(mgf_math)\n",
    "importlib.reload(geneMGF)\n",
    "sympy.init_printing()"
   ]
  },
  {
   "cell_type": "markdown",
   "metadata": {},
   "source": [
    "A useful quantitiy for understanding how genetic architecture impacts the trait distribution is the coefficient of variation of the variance. This is defined as \n",
    "$$\n",
    "\\frac{\\sqrt{Var[V_g]}}{E[V_g]}.\n",
    "$$\n",
    "Since we already have an expression for the expected variance in the population, what we need to derive is the variance of the variance.\n",
    "$$\n",
    "  Var[V_g] =  Var\\left[ \\frac{1}{N}\\sum \\left( Y_i - \\frac{\\sum Y_j}{N} \\right)^2\\right] \\\\\n",
    "  = \\frac{1}{N^2}\\left( \\sum Var[(Y_i - \\frac{\\sum Y_j}{N})^2] + \\sum_{i \\neq j} \n",
    "              Cov[(Y_i - \\frac{\\sum Y_k}{N})^2, (Y_j - \\frac{\\sum Y_k}{N})^2]\\right)\n",
    "$$"
   ]
  },
  {
   "cell_type": "markdown",
   "metadata": {},
   "source": [
    "The first term can be ignored if the population size is large. The second term is determined by\n",
    "the covariance in the squared deviations from the mean. The covariance can be calculated by\n",
    "considering its individual parts."
   ]
  },
  {
   "cell_type": "markdown",
   "metadata": {},
   "source": [
    "\\begin{align*}\n",
    "  &Cov[Y_i^2, Y_j^2] \\approx -2Cov[Y_i^2,Y_j^2] \\nonumber \\\\\n",
    "  &Cov[Y_i^2, -2Y_j \\frac{\\sum Y_k}{N}] \\approx -2Cov[Y_i^2,Y_jY_k] \\nonumber \\\\\n",
    "  &Cov[Y_i^2, \\left(\\frac{\\sum Y_k}{N}\\right)^2] \\approx Cov[Y_i^2,Y_jY_k] \\nonumber \\\\\n",
    "  &Cov[-2Y_i\\left(\\frac{\\sum Y_k}{N}\\right), Y_j^2] \\approx -2Cov[Y_i^2,Y_jY_k] \\nonumber \\\\\n",
    "  &Cov[-2Y_i\\left(\\frac{\\sum Y_k}{N}\\right),-2Y_j\\left(\\frac{\\sum Y_k}{N}\\right)] \n",
    "  \\approx 4Cov[Y_iY_j,Y_kY_l] \\nonumber \\\\\n",
    "  &Cov[-2Y_i\\left(\\frac{\\sum Y_k}{N}\\right), \\left(\\frac{\\sum Y_k}{N}\\right)] \n",
    "  \\approx -2Cov[Y_iY_j,Y_kY_l] \\nonumber \\\\\n",
    "  &Cov[\\left(\\frac{\\sum Y_k}{N}\\right)^2, Y_j^2] \n",
    "  \\approx Cov[Y_j^2,Y_iY_k] \\nonumber \\\\\n",
    "  &Cov[\\left(\\frac{\\sum Y_k}{N}\\right)^2,-2Y_j\\left(\\frac{\\sum Y_k}{N}\\right)] \n",
    "  \\approx -2Cov[Y_iY_j,Y_kY_l] \\nonumber \\\\\n",
    "  &Cov[\\left(\\frac{\\sum Y_k}{N}\\right)^2,\\left(\\frac{\\sum Y_k}{N}\\right)^2] \n",
    "  \\approx Cov[Y_iY_j,Y_kY_l] \\nonumber\n",
    "\\end{align*}"
   ]
  },
  {
   "cell_type": "markdown",
   "metadata": {},
   "source": [
    "Combining all these gives \n",
    "\\begin{equation}\n",
    "  Cov[(Y_i - \\frac{\\sum Y_k}{N})^2, (Y_j - \\frac{\\sum Y_k}{N})^2] = \n",
    "  E[Y_i^2Y_j^2] - E[Y_i^2]^2 - 2E[Y_i^2Y_jY_k] + 2E[Y_i^2]E[Y_jY_k] +\n",
    "  E[Y_iY_jY_kY_l] - E[Y_iY_j]^2.\n",
    "\\end{equation}"
   ]
  },
  {
   "cell_type": "markdown",
   "metadata": {},
   "source": [
    "What we need to do next is derive expressions for each part of this covariance. First we'll calculate the second order moments: $E[Y_i^2]$ and $E[Y_iE_j]$."
   ]
  },
  {
   "cell_type": "code",
   "execution_count": 3,
   "metadata": {},
   "outputs": [],
   "source": [
    "with open(\"test_mgf_4.pyc\", \"rb\") as fin:\n",
    "    mgf_4 = pickle.load(fin)"
   ]
  },
  {
   "cell_type": "code",
   "execution_count": 4,
   "metadata": {
    "collapsed": true
   },
   "outputs": [],
   "source": [
    "mom_x1x1_4 = mgf_4.calc_moment([2, 0, 0, 0], approx_type=\"exchangeable\")\n",
    "mom_x1x2_4 = mgf_4.calc_moment([1, 1, 0, 0], approx_type=\"exchangeable\")"
   ]
  },
  {
   "cell_type": "code",
   "execution_count": 5,
   "metadata": {},
   "outputs": [
    {
     "data": {
      "image/png": "[encoded data removed]",
      "text/latex": [
       "$$L^{2} \\left(m_{1} t_{0} \\theta + 3 m_{1} t_{0.1} \\theta + 3 m_{1} t_{0.1.2} \\theta\\right)^{2} + L \\left(- m_{1} t_{0} \\theta - 3 m_{1} t_{0.1} \\theta - 3 m_{1} t_{0.1.2} \\theta\\right) \\left(m_{1} t_{0} \\theta + 3 m_{1} t_{0.1} \\theta + 3 m_{1} t_{0.1.2} \\theta\\right) + L \\left(3 m_{1}^{2} t_{0.1.2x0.1.2} \\theta^{2} + 3 m_{1}^{2} t_{0.1x0.1} \\theta^{2} + 6 m_{1}^{2} t_{0.2.3x1.2.3} \\theta^{2} + 6 m_{1}^{2} t_{0.2x1.2} \\theta^{2} + 6 m_{1}^{2} t_{0.3x1.2.3} \\theta^{2} + m_{1}^{2} t_{0x0} \\theta^{2} + 12 m_{1}^{2} t_{1.2x0.1.2} \\theta^{2} + 6 m_{1}^{2} t_{1x0.1} \\theta^{2} + 6 m_{1}^{2} t_{2x0.1.2} \\theta^{2} + m_{2} t_{0} \\theta + 3 m_{2} t_{0.1} \\theta + 3 m_{2} t_{0.1.2} \\theta\\right)$$"
      ],
      "text/plain": [
       " 2                                          2                                 \n",
       "L ⋅(m₁⋅t₀⋅θ + 3⋅m₁⋅t_0.1⋅θ + 3⋅m₁⋅t_0.1.2⋅θ)  + L⋅(-m₁⋅t₀⋅θ - 3⋅m₁⋅t_0.1⋅θ - 3\n",
       "\n",
       "                                                             ⎛    2           \n",
       "⋅m₁⋅t_0.1.2⋅θ)⋅(m₁⋅t₀⋅θ + 3⋅m₁⋅t_0.1⋅θ + 3⋅m₁⋅t_0.1.2⋅θ) + L⋅⎝3⋅m₁ ⋅t_0.1.2x0.\n",
       "\n",
       "     2       2            2       2                2       2            2     \n",
       "1.2⋅θ  + 3⋅m₁ ⋅t_0.1x0.1⋅θ  + 6⋅m₁ ⋅t_0.2.3x1.2.3⋅θ  + 6⋅m₁ ⋅t_0.2x1.2⋅θ  + 6⋅\n",
       "\n",
       "  2              2     2       2        2              2       2          2   \n",
       "m₁ ⋅t_0.3x1.2.3⋅θ  + m₁ ⋅t₀ₓ₀⋅θ  + 12⋅m₁ ⋅t_1.2x0.1.2⋅θ  + 6⋅m₁ ⋅t_1x0.1⋅θ  + \n",
       "\n",
       "    2            2                                          ⎞\n",
       "6⋅m₁ ⋅t_2x0.1.2⋅θ  + m₂⋅t₀⋅θ + 3⋅m₂⋅t_0.1⋅θ + 3⋅m₂⋅t_0.1.2⋅θ⎠"
      ]
     },
     "execution_count": 5,
     "metadata": {},
     "output_type": "execute_result"
    }
   ],
   "source": [
    "mom_x1x1_4"
   ]
  },
  {
   "cell_type": "code",
   "execution_count": 6,
   "metadata": {},
   "outputs": [
    {
     "data": {
      "image/png": "[encoded data removed]",
      "text/latex": [
       "$$L^{2} \\left(m_{1} t_{0} \\theta + 3 m_{1} t_{0.1} \\theta + 3 m_{1} t_{0.1.2} \\theta\\right)^{2} + L \\left(- m_{1} t_{0} \\theta - 3 m_{1} t_{0.1} \\theta - 3 m_{1} t_{0.1.2} \\theta\\right) \\left(m_{1} t_{0} \\theta + 3 m_{1} t_{0.1} \\theta + 3 m_{1} t_{0.1.2} \\theta\\right) + L \\left(2 m_{1}^{2} t_{0.1.2x0.1.2} \\theta^{2} + m_{1}^{2} t_{0.1x0.1} \\theta^{2} + 2 m_{1}^{2} t_{0.1x2.3} \\theta^{2} + 7 m_{1}^{2} t_{0.2.3x1.2.3} \\theta^{2} + 6 m_{1}^{2} t_{0.2x1.2} \\theta^{2} + 10 m_{1}^{2} t_{0.3x1.2.3} \\theta^{2} + m_{1}^{2} t_{0x1} \\theta^{2} + 4 m_{1}^{2} t_{0x1.2} \\theta^{2} + 2 m_{1}^{2} t_{0x1.2.3} \\theta^{2} + 8 m_{1}^{2} t_{1.2x0.1.2} \\theta^{2} + 2 m_{1}^{2} t_{1x0.1} \\theta^{2} + 4 m_{1}^{2} t_{2x0.1.2} \\theta^{2} + m_{2} t_{0.1} \\theta + 2 m_{2} t_{0.1.2} \\theta\\right)$$"
      ],
      "text/plain": [
       " 2                                          2                                 \n",
       "L ⋅(m₁⋅t₀⋅θ + 3⋅m₁⋅t_0.1⋅θ + 3⋅m₁⋅t_0.1.2⋅θ)  + L⋅(-m₁⋅t₀⋅θ - 3⋅m₁⋅t_0.1⋅θ - 3\n",
       "\n",
       "                                                             ⎛    2           \n",
       "⋅m₁⋅t_0.1.2⋅θ)⋅(m₁⋅t₀⋅θ + 3⋅m₁⋅t_0.1⋅θ + 3⋅m₁⋅t_0.1.2⋅θ) + L⋅⎝2⋅m₁ ⋅t_0.1.2x0.\n",
       "\n",
       "     2     2            2       2            2       2                2       \n",
       "1.2⋅θ  + m₁ ⋅t_0.1x0.1⋅θ  + 2⋅m₁ ⋅t_0.1x2.3⋅θ  + 7⋅m₁ ⋅t_0.2.3x1.2.3⋅θ  + 6⋅m₁\n",
       "\n",
       "2            2        2              2     2       2       2          2       \n",
       " ⋅t_0.2x1.2⋅θ  + 10⋅m₁ ⋅t_0.3x1.2.3⋅θ  + m₁ ⋅t₀ₓ₁⋅θ  + 4⋅m₁ ⋅t_0x1.2⋅θ  + 2⋅m₁\n",
       "\n",
       "2            2       2              2       2          2       2            2 \n",
       " ⋅t_0x1.2.3⋅θ  + 8⋅m₁ ⋅t_1.2x0.1.2⋅θ  + 2⋅m₁ ⋅t_1x0.1⋅θ  + 4⋅m₁ ⋅t_2x0.1.2⋅θ  \n",
       "\n",
       "                             ⎞\n",
       "+ m₂⋅t_0.1⋅θ + 2⋅m₂⋅t_0.1.2⋅θ⎠"
      ]
     },
     "execution_count": 6,
     "metadata": {},
     "output_type": "execute_result"
    }
   ],
   "source": [
    "mom_x1x2_4"
   ]
  },
  {
   "cell_type": "markdown",
   "metadata": {},
   "source": [
    "The fourth order moments were computed previously and are already available. "
   ]
  },
  {
   "cell_type": "code",
   "execution_count": 7,
   "metadata": {
    "collapsed": true
   },
   "outputs": [],
   "source": [
    "mom_x1x2x3x4_4 = mgf_4.calc_moment([1, 1, 1, 1], approx_type = \"exchangeable\")\n",
    "mom_x1x1x2x3_4 = mgf_4.calc_moment([2, 1, 1, 0], approx_type = \"exchangeable\")\n",
    "mom_x1x1x2x2_4 = mgf_4.calc_moment([2, 2, 0 ,0], approx_type = \"exchangeable\")"
   ]
  },
  {
   "cell_type": "markdown",
   "metadata": {},
   "source": [
    "Now let's combine these to get an expression for the covariance."
   ]
  },
  {
   "cell_type": "code",
   "execution_count": 8,
   "metadata": {
    "collapsed": true
   },
   "outputs": [],
   "source": [
    "sqd_cov = mom_x1x1x2x2_4 - mom_x1x1_4**2 - 2*mom_x1x1x2x3_4 + 2*mom_x1x1_4*mom_x1x2_4 + mom_x1x2x3x4_4 - mom_x1x2_4**2"
   ]
  },
  {
   "cell_type": "code",
   "execution_count": 15,
   "metadata": {},
   "outputs": [
    {
     "data": {
      "image/png": "[encoded data removed]",
      "text/latex": [
       "$$- \\frac{25 L}{81} T_{2.1n4}^{2} m_{2}^{2} \\theta^{2} - \\frac{25 T_{2.1n4}}{27} L T_{3.1n4} m_{2}^{2} \\theta^{2} - \\frac{10 T_{2.1n4}}{9} L T_{4.1n4} m_{2}^{2} \\theta^{2} + \\frac{T_{2.1n4} m_{4}}{9} L \\theta + \\frac{4 T_{2.1x3.1n4}}{3} L m_{2}^{2} \\theta^{2} + \\frac{10 T_{2.1x4.1n4}}{9} L m_{2}^{2} \\theta^{2} + \\frac{2 T_{2.2n4}}{3} L m_{2}^{2} \\theta^{2} - \\frac{25 L}{36} T_{3.1n4}^{2} m_{2}^{2} \\theta^{2} - \\frac{5 T_{3.1n4}}{3} L T_{4.1n4} m_{2}^{2} \\theta^{2} + \\frac{T_{3.1n4} m_{4}}{6} L \\theta + \\frac{5 T_{3.1x4.1n4}}{3} L m_{2}^{2} \\theta^{2} + L T_{3.2n4} m_{2}^{2} \\theta^{2} - L T_{4.1n4}^{2} m_{2}^{2} \\theta^{2} + L T_{4.2n4} m_{2}^{2} \\theta^{2}$$"
      ],
      "text/plain": [
       "              2   2  2                          2  2                          \n",
       "  25⋅L⋅T_2.1n4 ⋅m₂ ⋅θ    25⋅L⋅T_2.1n4⋅T_3.1n4⋅m₂ ⋅θ    10⋅L⋅T_2.1n4⋅T_4.1n4⋅m₂\n",
       "- ──────────────────── - ─────────────────────────── - ───────────────────────\n",
       "           81                         27                            9         \n",
       "\n",
       "2  2                                      2  2                      2  2      \n",
       " ⋅θ    L⋅T_2.1n4⋅m₄⋅θ   4⋅L⋅T_2.1x3.1n4⋅m₂ ⋅θ    10⋅L⋅T_2.1x4.1n4⋅m₂ ⋅θ    2⋅L\n",
       "──── + ────────────── + ────────────────────── + ─────────────────────── + ───\n",
       "             9                    3                         9                 \n",
       "\n",
       "           2  2               2   2  2                         2  2           \n",
       "⋅T_2.2n4⋅m₂ ⋅θ    25⋅L⋅T_3.1n4 ⋅m₂ ⋅θ    5⋅L⋅T_3.1n4⋅T_4.1n4⋅m₂ ⋅θ    L⋅T_3.1n\n",
       "─────────────── - ──────────────────── - ────────────────────────── + ────────\n",
       "     3                     36                        3                      6 \n",
       "\n",
       "                           2  2                                               \n",
       "4⋅m₄⋅θ   5⋅L⋅T_3.1x4.1n4⋅m₂ ⋅θ                2  2            2   2  2        \n",
       "────── + ────────────────────── + L⋅T_3.2n4⋅m₂ ⋅θ  - L⋅T_4.1n4 ⋅m₂ ⋅θ  + L⋅T_4\n",
       "                   3                                                          \n",
       "\n",
       "           \n",
       "       2  2\n",
       ".2n4⋅m₂ ⋅θ \n",
       "           "
      ]
     },
     "execution_count": 15,
     "metadata": {},
     "output_type": "execute_result"
    }
   ],
   "source": [
    "mgf_math.sub_all_ti(sqd_cov, [['0'], ['1'], ['2'], ['3']]).simplify().expand()"
   ]
  },
  {
   "cell_type": "markdown",
   "metadata": {},
   "source": [
    "This expression can be rewritten using the identity $E[T_{2,2}] = \\frac{5}{9}E[T_{2,4}] + \\frac{5}{6}E[T_{3,4}] + E[T_{4,4}]$ to give:\n",
    "$$\n",
    "L m_2^2 \\theta^2 Var[T_{2,2}] + \n",
    "L m_2^2 \\theta^2\\left(\\frac{29}{81} E[T_{2,4}^2] + \\frac{11}{27} E[T_{2,4}T_{3,4}] + \\frac{11}{36} E[T_{3,4}^2]\\right) +\n",
    "    L m_4 \\theta \\left( \\frac{1}{9} E[T_{2,4}] + \\frac{1}{6} E[T_{3,4}]\\right)\n",
    "$$"
   ]
  },
  {
   "cell_type": "markdown",
   "metadata": {},
   "source": [
    "The coefficient of variation of the variance is the standard deviation of the variance divided by the expected variance. Since the expected variance is $L m_2\\theta E[T_{2,2}]$, the coefficient of variation is \n",
    "$$\n",
    "CVV = \\frac{\\sqrt{L m_2^2 \\theta^2 Var[T_{2,2}] + \n",
    "L m_2^2 \\theta^2\\left(\\frac{29}{81} E[T_{2,4}^2] + \\frac{11}{27} E[T_{2,4}T_{3,4}] + \\frac{11}{36} E[T_{3,4}^2]\\right) +\n",
    "    L m_4 \\theta \\left( \\frac{1}{9} E[T_{2,4}] + \\frac{1}{6} E[T_{3,4}]\\right)}}{L m_2\\theta E[T_{2,2}]}\n",
    "$$"
   ]
  },
  {
   "cell_type": "markdown",
   "metadata": {},
   "source": [
    "This can be rearranged to give \n",
    "\n",
    "$$\n",
    "\\sqrt{\\frac{Var[T_{2,2}] + \\frac{29}{81} E[T_{2,4}^2] + \\frac{11}{27} E[T_{2,4}T_{3,4}] + \\frac{11}{36} E[T_{3,4}^2]}{L E[T_{2,2}]^2} +\n",
    "\\frac{\\kappa}{L\\theta E[T_{2,2}]}\\left( \\frac{\\frac{1}{9} E[T_{2,4}] + \\frac{1}{6} E[T_{3,4}]}{E[T_{2,2}]} \\right)}\n",
    "$$"
   ]
  },
  {
   "cell_type": "markdown",
   "metadata": {},
   "source": [
    "What we have here is a first term proportional to $1/L$ times the constant\n",
    "\n",
    "$$\n",
    "A = \\frac{Var[T_{2,2}] + \\frac{29}{81} E[T_{2,4}^2] + \\frac{11}{27} E[T_{2,4}T_{3,4}] + \\frac{11}{36} E[T_{3,4}^2]}{ E[T_{2,2}]^2}\n",
    "$$\n",
    "that depends on the genealogical distribution. The second term is proportional to $\\kappa/L\\theta E[T_{2,2}]$ times a different genealogical constant \n",
    "\n",
    "$$\n",
    "B = \\frac{\\frac{1}{9} E[T_{2,4}] + \\frac{1}{6} E[T_{3,4}]}{E[T_{2,2}]}\n",
    "$$"
   ]
  },
  {
   "cell_type": "markdown",
   "metadata": {},
   "source": [
    "When the expected number of mutations separating two haplotypes is large but these all happen at one locus the resulting CVV is simply $\\sqrt{A}$. When the number of loci becomes large but the expected number of mutations separating two ploids is still low, the CVV is \n",
    "\n",
    "$$\n",
    "\\sqrt{\\frac{\\kappa B}{L\\theta E[T_{2,2}]}}\n",
    "$$"
   ]
  },
  {
   "cell_type": "markdown",
   "metadata": {},
   "source": [
    "Now let's do this for the case of a constant-size panmicitic population to see how, for a fixed triat sparsity how changing the number of loci affects the CVV."
   ]
  },
  {
   "cell_type": "code",
   "execution_count": 9,
   "metadata": {},
   "outputs": [
    {
     "name": "stdout",
     "output_type": "stream",
     "text": [
      "{}\n",
      "FUKKKK\n"
     ]
    }
   ],
   "source": [
    "const_gene_mgf = geneMGF.geneMGF([[0], [1], [2], [3]])\n",
    "mgf_4.make_mgf(order = 4, approx_type = 'full', gene_mgf = const_gene_mgf)"
   ]
  },
  {
   "cell_type": "code",
   "execution_count": 13,
   "metadata": {
    "scrolled": true
   },
   "outputs": [],
   "source": [
    "constm_x1x1_4 = mgf_4.calc_moment([2, 0, 0, 0], approx_type=\"full\")\n",
    "constm_x1x2_4 = mgf_4.calc_moment([1, 1, 0, 0], approx_type=\"full\")"
   ]
  },
  {
   "cell_type": "code",
   "execution_count": 14,
   "metadata": {},
   "outputs": [
    {
     "data": {
      "image/png": "[encoded data removed]",
      "text/latex": [
       "$$\\frac{9 m_{1}^{2}}{4} L^{2} \\theta^{2} - \\frac{9 L}{4} m_{1}^{2} \\theta^{2} + L \\left(\\frac{61 m_{1}^{2}}{18} \\theta^{2} + \\frac{3 m_{2}}{2} \\theta\\right)$$"
      ],
      "text/plain": [
       "   2   2  2         2  2     ⎛     2  2         ⎞\n",
       "9⋅L ⋅m₁ ⋅θ    9⋅L⋅m₁ ⋅θ      ⎜61⋅m₁ ⋅θ    3⋅m₂⋅θ⎟\n",
       "─────────── - ────────── + L⋅⎜───────── + ──────⎟\n",
       "     4            4          ⎝    18        2   ⎠"
      ]
     },
     "execution_count": 14,
     "metadata": {},
     "output_type": "execute_result"
    }
   ],
   "source": [
    "constm_x1x1_4"
   ]
  },
  {
   "cell_type": "code",
   "execution_count": 12,
   "metadata": {},
   "outputs": [],
   "source": [
    "constm_x1x2x3x4_4 = mgf_4.calc_moment([1, 1, 1, 1], approx_type = \"full\")\n",
    "constm_x1x1x2x3_4 = mgf_4.calc_moment([2, 1, 1, 0], approx_type = \"full\")\n",
    "constm_x1x1x2x2_4 = mgf_4.calc_moment([2, 2, 0 ,0], approx_type = \"full\")"
   ]
  },
  {
   "cell_type": "code",
   "execution_count": 15,
   "metadata": {
    "collapsed": true
   },
   "outputs": [],
   "source": [
    "cosnt_sqd_cov = constm_x1x1x2x2_4 - constm_x1x1_4**2 - 2*constm_x1x1x2x3_4 + 2*constm_x1x1_4*constm_x1x2_4 + constm_x1x2x3x4_4 - constm_x1x2_4**2"
   ]
  },
  {
   "cell_type": "code",
   "execution_count": 16,
   "metadata": {},
   "outputs": [
    {
     "data": {
      "image/png": "[encoded data removed]",
      "text/latex": [
       "$$\\frac{4 L}{3} m_{2}^{2} \\theta^{2} + \\frac{m_{4} \\theta}{6} L$$"
      ],
      "text/plain": [
       "      2  2         \n",
       "4⋅L⋅m₂ ⋅θ    L⋅m₄⋅θ\n",
       "────────── + ──────\n",
       "    3          6   "
      ]
     },
     "execution_count": 16,
     "metadata": {},
     "output_type": "execute_result"
    }
   ],
   "source": [
    "cosnt_sqd_cov.simplify().expand()"
   ]
  },
  {
   "cell_type": "code",
   "execution_count": 17,
   "metadata": {},
   "outputs": [
    {
     "data": {
      "image/png": "[encoded data removed]",
      "text/latex": [
       "$$L m_{2} \\theta$$"
      ],
      "text/plain": [
       "L⋅m₂⋅θ"
      ]
     },
     "execution_count": 17,
     "metadata": {},
     "output_type": "execute_result"
    }
   ],
   "source": [
    "(constm_x1x1_4 - constm_x1x2_4).simplify().expand()"
   ]
  },
  {
   "cell_type": "markdown",
   "metadata": {},
   "source": [
    "This implies that the CVV is \n",
    "\n",
    "$$\n",
    "\\sqrt{\\frac{4}{3}\\frac{1}{L} + \\frac{1}{6}\\frac{\\kappa}{L\\theta}}\n",
    "$$\n",
    "\n",
    "and we therefore have $A=4/3$ and $B=1/6$. The mutation rate here is per unit of coalescent time. "
   ]
  },
  {
   "cell_type": "markdown",
   "metadata": {},
   "source": [
    "To investigate this in models other than a constant-sized population we have to calculate the necessary branch moments under those models."
   ]
  },
  {
   "cell_type": "code",
   "execution_count": null,
   "metadata": {
    "collapsed": true
   },
   "outputs": [],
   "source": []
  }
 ],
 "metadata": {
  "kernelspec": {
   "display_name": "Python 3",
   "language": "python",
   "name": "python3"
  },
  "language_info": {
   "codemirror_mode": {
    "name": "ipython",
    "version": 3
   },
   "file_extension": ".py",
   "mimetype": "text/x-python",
   "name": "python",
   "nbconvert_exporter": "python",
   "pygments_lexer": "ipython3",
   "version": "3.5.2"
  }
 },
 "nbformat": 4,
 "nbformat_minor": 2
}
