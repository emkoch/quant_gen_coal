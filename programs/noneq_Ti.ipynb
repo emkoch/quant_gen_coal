{
 "cells": [
  {
   "cell_type": "code",
   "execution_count": 2,
   "metadata": {
    "autoscroll": false,
    "collapsed": true,
    "ein.tags": "worksheet-0",
    "slideshow": {
     "slide_type": "-"
    }
   },
   "outputs": [],
   "source": [
    "import sympy\n",
    "import matplotlib\n",
    "import numpy\n",
    "import scipy\n",
    "import scipy.integrate as integrate\n",
    "import math\n",
    "import pandas"
   ]
  },
  {
   "cell_type": "code",
   "execution_count": 3,
   "metadata": {
    "autoscroll": false,
    "collapsed": true,
    "ein.tags": "worksheet-0",
    "slideshow": {
     "slide_type": "-"
    }
   },
   "outputs": [],
   "source": [
    "def rho(j, t, eta):\n",
    "    return numpy.exp(-scipy.special.binom(int(j), 2)*integrate.quad(eta, 0, t, limit=100)[0])\n",
    "\n",
    "def comb_term(j, k, n):\n",
    "    assert j >= k, \"invalid integers\"\n",
    "    return ((-1)**(j-k)*(2*j - 1)*numpy.prod(list(range(k, k + j -1)))*\n",
    "            numpy.prod(list(range(n, n - j, -1)))/\n",
    "            (math.factorial(k)*math.factorial(j - k)*\n",
    "             numpy.prod(list(range(n, n + j)))))\n",
    "\n",
    "def P_Ant(k, t, n, eta):\n",
    "    result = 0\n",
    "    for jj in range(k, n + 1):\n",
    "        result += (rho(jj, t, eta)*\n",
    "                   comb_term(jj, k , n))\n",
    "    return result\n",
    "\n",
    "def ETj(k, n, eta):\n",
    "    PP = lambda t: P_Ant(k, t, n, eta)\n",
    "    return integrate.quad(PP, 0, scipy.inf, limit=100)"
   ]
  },
  {
   "cell_type": "code",
   "execution_count": 4,
   "metadata": {
    "autoscroll": false,
    "collapsed": true,
    "ein.tags": "worksheet-0",
    "slideshow": {
     "slide_type": "-"
    }
   },
   "outputs": [],
   "source": [
    "def tennessen_traj_eu(t):\n",
    "    assert t >= 0, \"invalid time\"\n",
    "    t = -t +  0.4049248\n",
    "    if t < 0:\n",
    "        return 1.\n",
    "    elif t >= 0 and t < 0.2654:\n",
    "        return 1.98**-1\n",
    "    elif t >= 0.2654 and t < 0.342:\n",
    "        return 0.2545828**-1\n",
    "    elif t >= 0.342 and t < 0.391:\n",
    "        return ((1032*numpy.exp(44.95426*(t-0.3419973)))/7310)**-1\n",
    "    elif t >= 0.391:\n",
    "        return ((9300*numpy.exp(285.8609*(t-0.3909029)))/7310)**-1\n",
    "\n",
    "def tennessen_traj_af(t):\n",
    "    assert t >= 0, \"invalid time\"\n",
    "    t = -t +  0.4049248\n",
    "    if t < 0:\n",
    "        return 1.\n",
    "    elif t >= 0 and t < 0.391:\n",
    "        return 1.98**-1\n",
    "    elif t >= 0.391:\n",
    "        return ((14474*numpy.exp(240.8648*(t-0.3909029)))/7310)**-1\n",
    "    \n",
    "foo = lambda t: 1.0"
   ]
  },
  {
   "cell_type": "code",
   "execution_count": 5,
   "metadata": {
    "autoscroll": false,
    "collapsed": true,
    "ein.tags": "worksheet-0",
    "slideshow": {
     "slide_type": "-"
    }
   },
   "outputs": [],
   "source": [
    "t_range = numpy.arange(0.0, 1.0, .001)\n",
    "n_test_eu = [tennessen_traj_eu(t) for t in t_range]\n",
    "n_test_af = [tennessen_traj_af(t) for t in t_range]"
   ]
  },
  {
   "cell_type": "code",
   "execution_count": 6,
   "metadata": {
    "autoscroll": false,
    "ein.tags": "worksheet-0",
    "slideshow": {
     "slide_type": "-"
    }
   },
   "outputs": [
    {
     "data": {
      "image/png": "[encoded data removed]",
      "text/plain": [
       "<matplotlib.figure.Figure at 0x7f5b32ccd9b0>"
      ]
     },
     "metadata": {},
     "output_type": "display_data"
    }
   ],
   "source": [
    "import matplotlib.pyplot as plt\n",
    "plt.figure(1)\n",
    "plt.plot(t_range, n_test_eu)\n",
    "plt.plot(t_range, n_test_af)\n",
    "plt.yscale('log')\n",
    "plt.show()"
   ]
  },
  {
   "cell_type": "code",
   "execution_count": 7,
   "metadata": {
    "autoscroll": false,
    "ein.tags": "worksheet-0",
    "scrolled": true,
    "slideshow": {
     "slide_type": "-"
    }
   },
   "outputs": [
    {
     "name": "stderr",
     "output_type": "stream",
     "text": [
      "/usr/local/lib/python3.5/dist-packages/scipy/integrate/quadpack.py:364: IntegrationWarning: The maximum number of subdivisions (100) has been achieved.\n",
      "  If increasing the limit yields no improvement it is advised to analyze \n",
      "  the integrand in order to determine the difficulties.  If the position of a \n",
      "  local difficulty can be determined (singularity, discontinuity) one will \n",
      "  probably gain from splitting up the interval and calling the integrator \n",
      "  on the subranges.  Perhaps a special-purpose integrator should be used.\n",
      "  warnings.warn(msg, IntegrationWarning)\n"
     ]
    }
   ],
   "source": [
    "ET4_4_af = ETj(4, 4, tennessen_traj_af)[0]\n",
    "ET3_4_af = ETj(3, 4, tennessen_traj_af)[0]\n",
    "ET2_4_af = ETj(2, 4, tennessen_traj_af)[0]\n",
    "ET2_2_af = ETj(2, 2, tennessen_traj_af)[0]\n",
    "\n",
    "ET4_4_eu = ETj(4, 4, tennessen_traj_eu)[0]\n",
    "ET3_4_eu = ETj(3, 4, tennessen_traj_eu)[0]\n",
    "ET2_4_eu = ETj(2, 4, tennessen_traj_eu)[0]\n",
    "ET2_2_eu = ETj(2, 2, tennessen_traj_eu)[0]"
   ]
  },
  {
   "cell_type": "code",
   "execution_count": 8,
   "metadata": {
    "collapsed": true
   },
   "outputs": [],
   "source": [
    "ET4_4_c = ETj(4, 4, foo)[0]\n",
    "ET3_4_c = ETj(3, 4, foo)[0]\n",
    "ET2_4_c = ETj(2, 4, foo)[0]\n",
    "ET2_2_c = ETj(2, 2, foo)[0]"
   ]
  },
  {
   "cell_type": "code",
   "execution_count": 9,
   "metadata": {
    "autoscroll": false,
    "ein.tags": "worksheet-0",
    "slideshow": {
     "slide_type": "-"
    }
   },
   "outputs": [
    {
     "name": "stdout",
     "output_type": "stream",
     "text": [
      "1.0937644730053369\n",
      "0.9207397073756128\n",
      "0.9999999999999882\n"
     ]
    }
   ],
   "source": [
    "Q_af = 2*(ET4_4_af + (1/3.)*ET3_4_af + (2/9.)*ET2_4_af)/ET2_2_af\n",
    "Q_eu = 2*(ET4_4_eu + (1/3.)*ET3_4_eu + (2/9.)*ET2_4_eu)/ET2_2_eu\n",
    "Q_c = 2*(ET4_4_c + (1/3.)*ET3_4_c + (2/9.)*ET2_4_c)/ET2_2_c\n",
    "print(Q_af)\n",
    "print(Q_eu)\n",
    "print(Q_c)"
   ]
  },
  {
   "cell_type": "code",
   "execution_count": 10,
   "metadata": {
    "autoscroll": false,
    "collapsed": true,
    "ein.tags": "worksheet-0",
    "slideshow": {
     "slide_type": "-"
    }
   },
   "outputs": [],
   "source": [
    "kappa = 6 # laplace dist kurtosis\n",
    "theta = 1.2*10**-8*7310\n",
    "l_set = numpy.arange(6000, 100000, 100)\n",
    "ET2_eu_set = [l*theta*ET2_2_eu*2 for l in l_set]"
   ]
  },
  {
   "cell_type": "code",
   "execution_count": 13,
   "metadata": {
    "autoscroll": false,
    "collapsed": true,
    "ein.tags": "worksheet-0",
    "slideshow": {
     "slide_type": "-"
    }
   },
   "outputs": [],
   "source": [
    "emom4_af = [1 + kappa/(6*l*theta*ET2_2_af)*Q_af for l in l_set]\n",
    "emom4_eu = [1 + kappa/(6*l*theta*ET2_2_eu)*Q_eu for l in l_set]\n",
    "emom4_af_c = [1 + kappa/(6*l*theta*ET2_2_af)*1. for l in l_set]\n",
    "emom4_eu_c = [1 + kappa/(6*l*theta*ET2_2_eu)*1. for l in l_set]"
   ]
  },
  {
   "cell_type": "code",
   "execution_count": 12,
   "metadata": {
    "autoscroll": false,
    "ein.tags": "worksheet-0",
    "slideshow": {
     "slide_type": "-"
    }
   },
   "outputs": [
    {
     "data": {
      "image/png": "[encoded data removed]",
      "text/plain": [
       "<matplotlib.figure.Figure at 0x7f5b2e2f2908>"
      ]
     },
     "metadata": {},
     "output_type": "display_data"
    }
   ],
   "source": [
    "f = plt.figure(2)\n",
    "plt.plot(ET2_eu_set, emom4_af, \"r\", label=\"Af variable\")\n",
    "plt.plot(ET2_eu_set, emom4_eu, \"b\", label=\"Eu variable\")\n",
    "plt.plot(ET2_eu_set, emom4_af_c, \"r--\", label=\"Af constant\")\n",
    "plt.plot(ET2_eu_set, emom4_eu_c, \"b--\", label=\"Eu constant\")\n",
    "plt.xlabel(\"Expected Eu pairwise difference\")\n",
    "plt.ylabel(\"Expected fourth moment relative to normality\")\n",
    "plt.grid(True)\n",
    "plt.legend()\n",
    "plt.show()\n",
    "f.savefig(\"af_eu_mom4.pdf\", bbox_inches=\"tight\")"
   ]
  },
  {
   "cell_type": "code",
   "execution_count": 15,
   "metadata": {
    "collapsed": true
   },
   "outputs": [],
   "source": [
    "af_eu_data = pandas.DataFrame({'ET2':ET2_eu_set, 'm4_af_v':emom4_af, 'm4_eu_v':emom4_eu, \n",
    "                               'm4_af_c':emom4_af_c, 'm4_eu_c':emom4_eu_c})\n",
    "af_eu_data.to_csv('af_eu_mom4.csv', sep=',')"
   ]
  },
  {
   "cell_type": "code",
   "execution_count": 17,
   "metadata": {
    "autoscroll": false,
    "ein.tags": "worksheet-0",
    "slideshow": {
     "slide_type": "-"
    }
   },
   "outputs": [
    {
     "name": "stderr",
     "output_type": "stream",
     "text": [
      "/home/evankoch/.local/lib/python3.5/site-packages/ipykernel_launcher.py:8: RuntimeWarning: overflow encountered in exp\n",
      "  \n"
     ]
    }
   ],
   "source": [
    "lambda_set = numpy.arange(0, .005, .00001)\n",
    "N0 = 10000\n",
    "ET2_2_set = []\n",
    "ET2_4_set = []\n",
    "ET3_4_set = []\n",
    "ET4_4_set = []\n",
    "for lam in lambda_set:\n",
    "    c_rate_fun = lambda t: numpy.exp(lam*N0*t)#*N0**-1.\n",
    "    ET2_2_set.append(ETj(2, 2, c_rate_fun)[0])\n",
    "    ET2_4_set.append(ETj(2, 4, c_rate_fun)[0])\n",
    "    ET3_4_set.append(ETj(3, 4, c_rate_fun)[0])\n",
    "    ET4_4_set.append(ETj(4, 4, c_rate_fun)[0])"
   ]
  },
  {
   "cell_type": "code",
   "execution_count": 18,
   "metadata": {
    "autoscroll": false,
    "ein.tags": "worksheet-0",
    "slideshow": {
     "slide_type": "-"
    }
   },
   "outputs": [],
   "source": [
    "coal_times = pandas.DataFrame({\"lam\": lambda_set, \"ET2_2\": ET2_2_set, \"ET2_4\": ET2_4_set,\n",
    "                               \"ET3_4\": ET3_4_set, \"ET4_4\": ET4_4_set})\n",
    "coal_times[\"Q\"] = (coal_times[\"ET4_4\"] + (1/3.)*coal_times[\"ET3_4\"] +\n",
    "                   (2/9.)*coal_times[\"ET2_4\"])/coal_times[\"ET2_2\"]\n",
    "coal_times[\"ex_kurt\"] = coal_times[\"Q\"]*kappa/(coal_times[\"ET2_2\"]*.0008*N0)\n",
    "coal_times[\"ex_kurt_const\"] = (0.5)*kappa/(coal_times[\"ET2_2\"]*.0008*N0)\n",
    "coal_times[\"ex_diffs\"] = coal_times[\"ET2_2\"]*.0008*2*N0"
   ]
  },
  {
   "cell_type": "code",
   "execution_count": 20,
   "metadata": {
    "autoscroll": false,
    "ein.tags": "worksheet-0",
    "slideshow": {
     "slide_type": "-"
    }
   },
   "outputs": [
    {
     "data": {
      "image/png": "[encoded data removed]",
      "text/plain": [
       "<matplotlib.figure.Figure at 0x7fcb6ec3b6d8>"
      ]
     },
     "metadata": {},
     "output_type": "display_data"
    }
   ],
   "source": [
    "foo_4 = plt.figure(8)\n",
    "plt.plot(coal_times[\"lam\"], coal_times[\"Q\"]/coal_times[\"Q\"][0], label=\"pairwise differences\", color=\"#1b9e77\")\n",
    "plt.plot(coal_times[\"lam\"], coal_times[\"ET2_2\"][0]/coal_times[\"ET2_2\"], label=\"demography\", color=\"#d95f02\")\n",
    "plt.yscale('log', basey=2)\n",
    "plt.grid(True)\n",
    "plt.legend()\n",
    "plt.xlabel(\"growth rate\")\n",
    "plt.ylabel(\"relative diff. from standard coalescent\")\n",
    "plt.show()\n",
    "foo_4.savefig(\"diff_demo_contributions.pdf\", bbox_inches=\"tight\")"
   ]
  },
  {
   "cell_type": "code",
   "execution_count": 21,
   "metadata": {
    "autoscroll": false,
    "ein.tags": "worksheet-0",
    "slideshow": {
     "slide_type": "-"
    }
   },
   "outputs": [
    {
     "data": {
      "image/png": "[encoded data removed]",
      "text/plain": [
       "<matplotlib.figure.Figure at 0x7fcb6e701a58>"
      ]
     },
     "metadata": {},
     "output_type": "display_data"
    }
   ],
   "source": [
    "plt.figure(\"foo\")\n",
    "plt.plot(coal_times[\"lam\"], coal_times[\"ET2_4\"]/coal_times[\"ET2_2\"], \"r\")\n",
    "plt.plot(coal_times[\"lam\"], coal_times[\"ET3_4\"]/coal_times[\"ET2_2\"], \"b\")\n",
    "plt.plot(coal_times[\"lam\"], coal_times[\"ET4_4\"]/coal_times[\"ET2_2\"], \"g\")\n",
    "plt.plot(coal_times[\"lam\"], coal_times[\"Q\"], \"y\")\n",
    "plt.show()"
   ]
  },
  {
   "cell_type": "code",
   "execution_count": 19,
   "metadata": {
    "autoscroll": false,
    "ein.tags": "worksheet-0",
    "slideshow": {
     "slide_type": "-"
    }
   },
   "outputs": [
    {
     "name": "stderr",
     "output_type": "stream",
     "text": [
      "/home/evankoch/.local/lib/python3.5/site-packages/ipykernel_launcher.py:8: RuntimeWarning: overflow encountered in exp\n",
      "  \n"
     ]
    }
   ],
   "source": [
    "lambda_set_alt = numpy.arange(0, 1, .001)*.1\n",
    "N0_alt = 1000\n",
    "ET2_2_set_alt = []\n",
    "ET2_4_set_alt = []\n",
    "ET3_4_set_alt = []\n",
    "ET4_4_set_alt = []\n",
    "for lam in lambda_set_alt:\n",
    "    c_rate_fun = lambda t: numpy.exp(lam*N0_alt*t)\n",
    "    ET2_2_set_alt.append(ETj(2, 2, c_rate_fun)[0])\n",
    "    ET2_4_set_alt.append(ETj(2, 4, c_rate_fun)[0])\n",
    "    ET3_4_set_alt.append(ETj(3, 4, c_rate_fun)[0])\n",
    "    ET4_4_set_alt.append(ETj(4, 4, c_rate_fun)[0])"
   ]
  },
  {
   "cell_type": "code",
   "execution_count": 20,
   "metadata": {
    "autoscroll": false,
    "ein.tags": "worksheet-0",
    "slideshow": {
     "slide_type": "-"
    }
   },
   "outputs": [
    {
     "data": {
      "image/png": "[encoded data removed]",
      "text/plain": [
       "<matplotlib.figure.Figure at 0x7f5b2e400e48>"
      ]
     },
     "metadata": {},
     "output_type": "display_data"
    }
   ],
   "source": [
    "coal_times_alt = pandas.DataFrame({\"lam\": lambda_set_alt, \"ET2_2\": ET2_2_set_alt, \"ET2_4\": ET2_4_set_alt,\n",
    "                               \"ET3_4\": ET3_4_set_alt, \"ET4_4\": ET4_4_set_alt})\n",
    "coal_times_alt[\"Q\"] = 2*(coal_times_alt[\"ET4_4\"] + (1/3.)*coal_times_alt[\"ET3_4\"] +\n",
    "                   (2/9.)*coal_times_alt[\"ET2_4\"])/coal_times_alt[\"ET2_2\"]\n",
    "\n",
    "fig5 = plt.figure(5)\n",
    "plt.plot(coal_times_alt[\"lam\"]*N0_alt, coal_times_alt[\"Q\"])\n",
    "plt.grid(True)\n",
    "plt.xscale(\"log\")\n",
    "plt.xlabel(r\"$\\lambda \\times N_0$\")\n",
    "plt.ylabel(\"Q\")\n",
    "plt.show()\n",
    "fig5.savefig(\"exp_growth.pdf\", bbox_inches=\"tight\")"
   ]
  },
  {
   "cell_type": "code",
   "execution_count": 21,
   "metadata": {
    "collapsed": true
   },
   "outputs": [],
   "source": [
    "coal_times_alt.to_csv('exp_growth_Q.csv', sep=',')"
   ]
  }
 ],
 "metadata": {
  "kernelspec": {
   "display_name": "Python 3",
   "language": "python",
   "name": "python3"
  },
  "language_info": {
   "codemirror_mode": {
    "name": "ipython",
    "version": 3
   },
   "file_extension": ".py",
   "mimetype": "text/x-python",
   "name": "python",
   "nbconvert_exporter": "python",
   "pygments_lexer": "ipython3",
   "version": "3.5.2"
  },
  "name": "noneq_Ti.ipynb"
 },
 "nbformat": 4,
 "nbformat_minor": 2
}
