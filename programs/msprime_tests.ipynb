{
 "cells": [
  {
   "cell_type": "code",
   "execution_count": 67,
   "metadata": {
    "collapsed": true
   },
   "outputs": [],
   "source": [
    "import msprime\n",
    "import numpy as np\n",
    "%matplotlib inline\n",
    "import matplotlib.pyplot as plt\n",
    "from scipy import stats\n",
    "import scipy\n",
    "import scipy.integrate as integrate\n",
    "import math\n",
    "import pickle"
   ]
  },
  {
   "cell_type": "code",
   "execution_count": 68,
   "metadata": {
    "collapsed": true
   },
   "outputs": [],
   "source": [
    "def rho(j, t, eta):\n",
    "    return np.exp(-scipy.special.binom(int(j), 2)*integrate.quad(eta, 0, t, limit=100)[0])\n",
    "\n",
    "def comb_term(j, k, n):\n",
    "    assert j >= k, \"invalid integers\"\n",
    "    return ((-1)**(j-k)*(2*j - 1)*np.prod(list(range(k, k + j -1)))*\n",
    "            np.prod(list(range(n, n - j, -1)))/\n",
    "            (math.factorial(k)*math.factorial(j - k)*\n",
    "             np.prod(list(range(n, n + j)))))\n",
    "\n",
    "def P_Ant(k, t, n, eta):\n",
    "    result = 0\n",
    "    for jj in range(k, n + 1):\n",
    "        result += (rho(jj, t, eta)*\n",
    "                   comb_term(jj, k , n))\n",
    "    return result\n",
    "\n",
    "def ETj(k, n, eta):\n",
    "    PP = lambda t: P_Ant(k, t, n, eta)\n",
    "    return integrate.quad(PP, 0, scipy.inf, limit=100)"
   ]
  },
  {
   "cell_type": "code",
   "execution_count": 134,
   "metadata": {
    "autoscroll": false,
    "collapsed": true,
    "ein.tags": "worksheet-0",
    "slideshow": {
     "slide_type": "-"
    }
   },
   "outputs": [],
   "source": [
    "def full_pop_reps(Ne_sim, mu, pi, rr=0.0):\n",
    "    genotypes = []\n",
    "    c_rate = lambda t: np.exp(rr*2.*Ne_sim*t)\n",
    "    T2_2 = ETj(2, 2, c_rate)[0] # get the expected pairwise coal time in units of 2Ne\n",
    "    LL = round(pi / (4.*mu*Ne_sim*T2_2)) # calculate the necessary number of sites\n",
    "    #print(LL)\n",
    "    replicates = msprime.simulate(\n",
    "        mutation_rate=mu,\n",
    "        num_replicates=LL,\n",
    "        population_configurations = [msprime.PopulationConfiguration(growth_rate=rr,\n",
    "                                                                     sample_size=2*Ne_sim,\n",
    "                                                                     initial_size=Ne_sim)])\n",
    "    for j, tree_sequence in enumerate(replicates):\n",
    "        #if not j % 1000:\n",
    "            #print(j / LL)\n",
    "        if tree_sequence.get_num_mutations() > 0:\n",
    "            variant = next(tree_sequence.variants())\n",
    "            genotypes.append(variant.genotypes)\n",
    "        if tree_sequence.get_num_mutations() > 1:\n",
    "            print(\"Warning: more than one mutation\")\n",
    "    return(np.array(genotypes, dtype=np.int32))\n",
    "\n",
    "def full_pop_reps_fast(Ne_sim, mu, pi):\n",
    "    genotypes = []\n",
    "    replicates = msprime.simulate(\n",
    "        sample_size=2*Ne_sim, # the coal rate is determined by two times Ne\n",
    "        Ne=Ne_sim,\n",
    "        mutation_rate=mu,\n",
    "        num_replicates=round(pi / (4.*mu*Ne_sim)))\n",
    "    for j, tree_sequence in enumerate(replicates):\n",
    "        if tree_sequence.get_num_mutations() > 0:\n",
    "            variant = next(tree_sequence.variants())\n",
    "            genotypes.append(variant.genotypes)\n",
    "        if tree_sequence.get_num_mutations() > 1:\n",
    "            print(\"Warning: more than one mutation\")\n",
    "    return(np.array(genotypes, dtype=np.int32))\n",
    "\n",
    "def nt_div(genotypes):\n",
    "    result = 0\n",
    "    psum = 0\n",
    "    for ii in range(genotypes.shape[1]):\n",
    "        for jj in range(ii+1, genotypes.shape[1]):\n",
    "            result += np.sum(np.abs(genotypes[:,ii] - genotypes[:,jj]))\n",
    "            psum += 1\n",
    "    return result/psum\n",
    "\n",
    "def phen_pop(Ne_sim, mu, pi, rr=0.0):\n",
    "    genotypes = np.transpose(full_pop_reps(Ne_sim, mu, pi, rr=rr))\n",
    "    while len(genotypes.shape) == 1:\n",
    "        genotypes = np.transpose(full_pop_reps(Ne_sim, mu, pi, rr=rr))\n",
    "    return(genotypes * np.random.laplace(size=genotypes.shape[1]))\n",
    "\n",
    "def pop_kurt(phenotypes):\n",
    "    phens = np.sum(phenotypes, axis=1)\n",
    "    mean_phen = np.mean(phens)\n",
    "    m4 = np.mean((phens - mean_phen)**4)\n",
    "    m2 = np.var(phens)\n",
    "    return(m4 / m2**2)\n",
    "\n",
    "def pop_kurt_alt(phens):\n",
    "    mean_phen = np.mean(phens)\n",
    "    m4 = np.mean((phens - mean_phen)**4)\n",
    "    m2 = np.var(phens)\n",
    "    return(m4 / m2**2)\n",
    "\n",
    "def var_sq(phenotypes):\n",
    "    phens = np.sum(phenotypes, axis=1)\n",
    "    return(np.var(phens)**2)"
   ]
  },
  {
   "cell_type": "code",
   "execution_count": null,
   "metadata": {
    "autoscroll": false,
    "collapsed": true,
    "ein.tags": "worksheet-0",
    "slideshow": {
     "slide_type": "-"
    }
   },
   "outputs": [],
   "source": [
    "#sim_phens = []\n",
    "#for ii, pi in enumerate(pi_set):\n",
    "#    print(pi)\n",
    "#    sim_phens.append([])\n",
    "#    for jj in range(nreps[ii]):\n",
    "#        sim_phens[ii].append(phen_pop(test_Ne, 2e-7, pi))"
   ]
  },
  {
   "cell_type": "code",
   "execution_count": null,
   "metadata": {
    "collapsed": true
   },
   "outputs": [],
   "source": [
    "#sim_phens_growth = []\n",
    "#for ii, pi in enumerate(pi_set):\n",
    "#    print(pi)\n",
    "#    sim_phens_growth.append([])\n",
    "#    for jj in range(nreps[ii]):\n",
    "#        sim_phens_growth[ii].append(phen_pop(test_Ne, 1e-6, pi, rr=test_rr))"
   ]
  },
  {
   "cell_type": "code",
   "execution_count": null,
   "metadata": {
    "collapsed": true
   },
   "outputs": [],
   "source": [
    "#sim_phens_growth_lap = []\n",
    "#for ii, pi in enumerate(pi_set):\n",
    "#    print(pi)\n",
    "#    sim_phens_growth_lap.append([])\n",
    "#    for jj in range(nreps[ii]):\n",
    "#        sim_phens_growth_lap[ii].append(phen_pop(test_Ne, 1e-6, pi, rr=test_rr))"
   ]
  },
  {
   "cell_type": "code",
   "execution_count": 76,
   "metadata": {
    "autoscroll": false,
    "collapsed": true,
    "ein.tags": "worksheet-0",
    "slideshow": {
     "slide_type": "-"
    }
   },
   "outputs": [],
   "source": [
    "#with open(\"sim_phens_norm.pyc\", \"wb\") as fout:\n",
    "#    pickle.dump(sim_phens, file=fout)"
   ]
  },
  {
   "cell_type": "code",
   "execution_count": 133,
   "metadata": {
    "collapsed": true
   },
   "outputs": [],
   "source": [
    "#with open(\"sim_phens_norm_growth.pyc\", \"wb\") as fout:\n",
    "#    pickle.dump(sim_phens_growth, file=fout)"
   ]
  },
  {
   "cell_type": "code",
   "execution_count": 136,
   "metadata": {
    "collapsed": true
   },
   "outputs": [],
   "source": [
    "#with open(\"sim_phens_lap_growth.pyc\", \"wb\") as fout:\n",
    "#    pickle.dump(sim_phens_growth_lap, file=fout)"
   ]
  },
  {
   "cell_type": "markdown",
   "metadata": {},
   "source": [
    "These simulations take a good amount of time to run so read in output already computed:"
   ]
  },
  {
   "cell_type": "code",
   "execution_count": null,
   "metadata": {
    "collapsed": true
   },
   "outputs": [],
   "source": []
  },
  {
   "cell_type": "code",
   "execution_count": 144,
   "metadata": {
    "collapsed": true
   },
   "outputs": [],
   "source": [
    "with open(\"sim_phens_norm.pyc\", \"rb\") as fin:\n",
    "     sim_phens_norm = pickle.load(fin)"
   ]
  },
  {
   "cell_type": "code",
   "execution_count": 145,
   "metadata": {
    "collapsed": true
   },
   "outputs": [],
   "source": [
    "with open(\"sim_phens_lap.pyc\", \"rb\") as fin:\n",
    "    sim_phens_lap = pickle.load(fin)"
   ]
  },
  {
   "cell_type": "code",
   "execution_count": 146,
   "metadata": {
    "collapsed": true
   },
   "outputs": [],
   "source": [
    "with open(\"sim_phens_norm_growth.pyc\", \"rb\") as fin:\n",
    "    sim_phens_growth_norm = pickle.load(fin)"
   ]
  },
  {
   "cell_type": "code",
   "execution_count": 148,
   "metadata": {
    "collapsed": true
   },
   "outputs": [],
   "source": [
    "with open(\"sim_phens_lap_growth.pyc\", \"rb\") as fin:\n",
    "    sim_phens_growth_lap = pickle.load(fin)"
   ]
  },
  {
   "cell_type": "code",
   "execution_count": 15,
   "metadata": {
    "autoscroll": false,
    "collapsed": true,
    "ein.tags": "worksheet-0",
    "slideshow": {
     "slide_type": "-"
    }
   },
   "outputs": [],
   "source": [
    "pop_vars = np.array([np.mean([np.var(np.sum(pp, 1)) for pp in phen]) for phen in sim_phens])\n",
    "pop_mkurts = np.array([np.mean([pop_kurt_alt(np.sum(pp, 1)) for pp in phen]) for phen in sim_phens])\n",
    "pop_var_vars = np.array([np.var([np.var(np.sum(pp, 1)) for pp in phen], ddof=1) for phen in sim_phens])"
   ]
  },
  {
   "cell_type": "code",
   "execution_count": 16,
   "metadata": {
    "autoscroll": false,
    "collapsed": true,
    "ein.tags": "worksheet-0",
    "slideshow": {
     "slide_type": "-"
    }
   },
   "outputs": [],
   "source": [
    "pop_kurtsem = [stats.sem([pop_kurt_alt(np.sum(pp, 1)) for pp in phen]) for phen in sim_phens]"
   ]
  },
  {
   "cell_type": "code",
   "execution_count": 17,
   "metadata": {
    "autoscroll": false,
    "ein.tags": "worksheet-0",
    "slideshow": {
     "slide_type": "-"
    }
   },
   "outputs": [
    {
     "data": {
      "text/plain": [
       "array([ 0.10680183,  0.23308137,  0.43084529,  0.45068593,  0.59410291,\n",
       "        0.94221744,  1.40964672,  2.6113167 ])"
      ]
     },
     "execution_count": 17,
     "metadata": {},
     "output_type": "execute_result"
    }
   ],
   "source": [
    "pop_var_vars"
   ]
  },
  {
   "cell_type": "code",
   "execution_count": 48,
   "metadata": {
    "autoscroll": false,
    "collapsed": true,
    "ein.tags": "worksheet-0",
    "slideshow": {
     "slide_type": "-"
    }
   },
   "outputs": [],
   "source": [
    "pop_kurts_norm = []\n",
    "for ii, pi in enumerate(pi_set):\n",
    "    pop_kurts_norm.append([0]*nreps[ii])\n",
    "    for jj in range(nreps[ii]):\n",
    "        pop_kurts_norm[ii][jj] = pop_kurt(sim_phens_norm[ii][jj])"
   ]
  },
  {
   "cell_type": "code",
   "execution_count": 171,
   "metadata": {
    "collapsed": true
   },
   "outputs": [],
   "source": [
    "pop_kurts_lap = []\n",
    "for ii, pi in enumerate(pi_set):\n",
    "    pop_kurts_lap.append([0]*nreps[ii])\n",
    "    for jj in range(nreps[ii]):\n",
    "        pop_kurts_lap[ii][jj] = pop_kurt(sim_phens_lap[ii][jj])"
   ]
  },
  {
   "cell_type": "code",
   "execution_count": 142,
   "metadata": {
    "collapsed": true
   },
   "outputs": [],
   "source": [
    "pop_kurts_growth_lap = []\n",
    "for ii, pi in enumerate(pi_set):\n",
    "    pop_kurts_growth_lap.append([0]*nreps[ii])\n",
    "    for jj in range(nreps[ii]):\n",
    "        pop_kurts_growth_lap[ii][jj] = pop_kurt(sim_phens_growth_lap[ii][jj])"
   ]
  },
  {
   "cell_type": "code",
   "execution_count": 150,
   "metadata": {
    "collapsed": true
   },
   "outputs": [],
   "source": [
    "pop_kurts_growth_norm = []\n",
    "for ii, pi in enumerate(pi_set):\n",
    "    pop_kurts_growth_norm.append([0]*nreps[ii])\n",
    "    for jj in range(nreps[ii]):\n",
    "        pop_kurts_growth_norm[ii][jj] = pop_kurt(sim_phens_growth_norm[ii][jj])"
   ]
  },
  {
   "cell_type": "code",
   "execution_count": 155,
   "metadata": {},
   "outputs": [
    {
     "name": "stderr",
     "output_type": "stream",
     "text": [
      "/home/evankoch/.local/lib/python3.5/site-packages/ipykernel_launcher.py:1: RuntimeWarning: overflow encountered in exp\n",
      "  \"\"\"Entry point for launching an IPython kernel.\n",
      "/home/evankoch/.local/lib/python3.5/site-packages/ipykernel_launcher.py:2: RuntimeWarning: overflow encountered in exp\n",
      "  \n",
      "/home/evankoch/.local/lib/python3.5/site-packages/ipykernel_launcher.py:3: RuntimeWarning: overflow encountered in exp\n",
      "  This is separate from the ipykernel package so we can avoid doing imports until\n",
      "/home/evankoch/.local/lib/python3.5/site-packages/ipykernel_launcher.py:4: RuntimeWarning: overflow encountered in exp\n",
      "  after removing the cwd from sys.path.\n"
     ]
    }
   ],
   "source": [
    "ET4_4 = ETj(4, 4, lambda t: np.exp(t))[0]\n",
    "ET3_4 = ETj(3, 4, lambda t: np.exp(t))[0]\n",
    "ET2_4 = ETj(2, 4, lambda t: np.exp(t))[0]\n",
    "ET2_2 = ETj(2, 2, lambda t: np.exp(t))[0]\n",
    "AA = (ET4_4 - (1./6.)*ET3_4 - (1./9.)*ET2_4)/ET2_2\n",
    "BB = ((1./6.)*ET3_4 + (1./9.)*ET2_4)/ET2_2"
   ]
  },
  {
   "cell_type": "code",
   "execution_count": 156,
   "metadata": {},
   "outputs": [
    {
     "name": "stdout",
     "output_type": "stream",
     "text": [
      "0.09231479183805001 0.1512808680269911\n"
     ]
    }
   ],
   "source": [
    "print(AA, BB)"
   ]
  },
  {
   "cell_type": "code",
   "execution_count": 187,
   "metadata": {
    "autoscroll": false,
    "ein.tags": "worksheet-0",
    "slideshow": {
     "slide_type": "-"
    }
   },
   "outputs": [
    {
     "data": {
      "image/png": "[encoded data removed]",
      "text/plain": [
       "<matplotlib.figure.Figure at 0x7f77f085f978>"
      ]
     },
     "metadata": {},
     "output_type": "display_data"
    }
   ],
   "source": [
    "plt.figure(1, figsize=(10, 10))\n",
    "plt.subplot(221)\n",
    "plt.boxplot(pop_kurts_norm, positions=pi_set, showmeans=True);\n",
    "plt.plot(pi_set, [3]*len(pi_set), \"--r\", label=\"first-order kurtosis approximation\")\n",
    "plt.tick_params(labelsize=7)\n",
    "plt.yscale(\"log\", basey=3)\n",
    "plt.xlabel(\"expected pairwise differences\")\n",
    "plt.ylabel(\"kurtosis\")\n",
    "plt.legend()\n",
    "plt.title(\"Normal mutations - constant size\")\n",
    "\n",
    "plt.subplot(222)\n",
    "plt.boxplot(pop_kurts_lap, positions=pi_set, showmeans=True);\n",
    "plt.plot(pi_set, [3]*len(pi_set), \"--r\", label=\"first-order kurtosis approximation\")\n",
    "plt.tick_params(labelsize=7)\n",
    "plt.yscale(\"log\", basey=3)\n",
    "plt.xlabel(\"expected pairwise differences\")\n",
    "plt.ylabel(\"kurtosis\")\n",
    "plt.legend()\n",
    "plt.title(\"Laplace mutations - constant size\")\n",
    "\n",
    "plt.subplot(224)\n",
    "plt.boxplot(pop_kurts_growth_lap, positions=pi_set, showmeans=True);\n",
    "plt.plot(pi_set, 3 + 6.*AA/(0.5*np.array(pi_set) + 6.*BB), \"--r\", label=\"first-order kurtosis approximation\")\n",
    "plt.tick_params(labelsize=7)\n",
    "plt.yscale(\"log\", basey=3)\n",
    "plt.xlabel(\"expected pairwise differences\")\n",
    "plt.ylabel(\"kurtosis\")\n",
    "plt.legend()\n",
    "plt.title(\"Laplace mutations - exponential growth\")\n",
    "\n",
    "plt.subplot(223)\n",
    "plt.boxplot(pop_kurts_growth_norm, positions=pi_set, showmeans=True);\n",
    "plt.plot(pi_set, 3 + 3.*AA/(0.5*np.array(pi_set) + 3.*BB), \"--r\", label=\"first-order kurtosis approximation\")\n",
    "plt.tick_params(labelsize=7)\n",
    "plt.yscale(\"log\", basey=3)\n",
    "plt.xlabel(\"expected pairwise differences\")\n",
    "plt.ylabel(\"kurtosis\")\n",
    "plt.legend()\n",
    "plt.title(\"Normal mutations - exponential growth\")\n",
    "plt.savefig(\"norm_growth_kurt_sim.pdf\", bbox_inches=\"tight\")\n",
    "plt.savefig(\"kurt_sim.pdf\", bbox_inches=\"tight\")"
   ]
  },
  {
   "cell_type": "code",
   "execution_count": null,
   "metadata": {
    "collapsed": true
   },
   "outputs": [],
   "source": []
  }
 ],
 "metadata": {
  "kernelspec": {
   "display_name": "Python 3",
   "language": "python",
   "name": "python3"
  },
  "language_info": {
   "codemirror_mode": {
    "name": "ipython",
    "version": 3
   },
   "file_extension": ".py",
   "mimetype": "text/x-python",
   "name": "python",
   "nbconvert_exporter": "python",
   "pygments_lexer": "ipython3",
   "version": "3.5.2"
  },
  "name": "msprime_tests.ipynb"
 },
 "nbformat": 4,
 "nbformat_minor": 2
}
